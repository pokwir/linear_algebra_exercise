{
 "cells": [
  {
   "cell_type": "markdown",
   "metadata": {},
   "source": [
    "## Matrix Decomposition Exercise"
   ]
  },
  {
   "cell_type": "code",
   "execution_count": 2,
   "metadata": {
    "ExecuteTime": {
     "end_time": "2020-01-30T08:49:15.705544Z",
     "start_time": "2020-01-30T08:49:15.691050Z"
    }
   },
   "outputs": [],
   "source": [
    "# import numpy\n",
    "import numpy as np\n",
    "import numpy.linalg as la"
   ]
  },
  {
   "cell_type": "markdown",
   "metadata": {
    "ExecuteTime": {
     "end_time": "2020-01-30T08:49:16.033687Z",
     "start_time": "2020-01-30T08:49:16.022845Z"
    }
   },
   "source": [
    "**Task:** Generate a random matrix 'A' with a shape of 150x50, using the '**np.random.rand**' function."
   ]
  },
  {
   "cell_type": "code",
   "execution_count": 3,
   "metadata": {},
   "outputs": [],
   "source": [
    "# generate a random matrix A with shape 150X50 using np.random.rand\n",
    "A = np.random.rand(150, 50)"
   ]
  },
  {
   "cell_type": "code",
   "execution_count": null,
   "metadata": {},
   "outputs": [],
   "source": []
  },
  {
   "cell_type": "markdown",
   "metadata": {
    "ExecuteTime": {
     "end_time": "2020-01-30T08:49:16.306858Z",
     "start_time": "2020-01-30T08:49:16.291806Z"
    }
   },
   "source": [
    "**Task:** Check the shape of 'A'."
   ]
  },
  {
   "cell_type": "code",
   "execution_count": 4,
   "metadata": {},
   "outputs": [
    {
     "data": {
      "text/plain": [
       "numpy.ndarray"
      ]
     },
     "execution_count": 4,
     "metadata": {},
     "output_type": "execute_result"
    }
   ],
   "source": [
    "type(A)"
   ]
  },
  {
   "cell_type": "code",
   "execution_count": null,
   "metadata": {},
   "outputs": [],
   "source": []
  },
  {
   "cell_type": "markdown",
   "metadata": {
    "ExecuteTime": {
     "end_time": "2020-01-30T08:49:16.700850Z",
     "start_time": "2020-01-30T08:49:16.658980Z"
    }
   },
   "source": [
    "**Task:** Decompose matrix 'A' with SVD using numpy (decompose into matrices U,D,V)."
   ]
  },
  {
   "cell_type": "code",
   "execution_count": 6,
   "metadata": {},
   "outputs": [],
   "source": [
    "# compute the SVD decomposition of A into U, D, V\n",
    "U, D, V = la.svd(A)"
   ]
  },
  {
   "cell_type": "code",
   "execution_count": 7,
   "metadata": {},
   "outputs": [
    {
     "data": {
      "text/plain": [
       "array([[-0.09204877,  0.01279412,  0.03473779, ...,  0.01715618,\n",
       "        -0.03796863,  0.0509997 ],\n",
       "       [-0.08855303, -0.12115667, -0.10946121, ...,  0.20903596,\n",
       "         0.026753  ,  0.11821637],\n",
       "       [-0.07131422,  0.0207151 ,  0.03116559, ...,  0.09438811,\n",
       "        -0.00873368, -0.08155166],\n",
       "       ...,\n",
       "       [-0.07542946,  0.05659156, -0.01532432, ...,  0.71371203,\n",
       "         0.00775152, -0.01544007],\n",
       "       [-0.08816231, -0.13831353, -0.01821508, ..., -0.04840357,\n",
       "         0.67673543,  0.00551594],\n",
       "       [-0.08529183, -0.07956693, -0.07580399, ..., -0.04636658,\n",
       "        -0.0455376 ,  0.69703257]])"
      ]
     },
     "execution_count": 7,
     "metadata": {},
     "output_type": "execute_result"
    }
   ],
   "source": []
  },
  {
   "cell_type": "markdown",
   "metadata": {
    "ExecuteTime": {
     "end_time": "2020-01-30T08:49:17.007803Z",
     "start_time": "2020-01-30T08:49:17.000154Z"
    }
   },
   "source": [
    "**Task:** Check the shapes of matrices U,D,V."
   ]
  },
  {
   "cell_type": "code",
   "execution_count": 8,
   "metadata": {},
   "outputs": [
    {
     "data": {
      "text/plain": [
       "((150, 150), (50,), (50, 50))"
      ]
     },
     "execution_count": 8,
     "metadata": {},
     "output_type": "execute_result"
    }
   ],
   "source": [
    "# check the shape of U, D, V\n",
    "U.shape, D.shape, V.shape"
   ]
  },
  {
   "cell_type": "code",
   "execution_count": null,
   "metadata": {},
   "outputs": [],
   "source": []
  },
  {
   "cell_type": "markdown",
   "metadata": {
    "ExecuteTime": {
     "end_time": "2020-01-30T08:49:17.380307Z",
     "start_time": "2020-01-30T08:49:17.364171Z"
    }
   },
   "source": [
    "**Task:** Reconstruct matrix 'A' from matrices U,D,V."
   ]
  },
  {
   "cell_type": "code",
   "execution_count": 29,
   "metadata": {},
   "outputs": [],
   "source": [
    "#Reconstruct matrix A from matrix U,D,V\n",
    "def reconstruct_matrix(U,D,V):\n",
    "    A = np.zeros((U.shape[0],V.shape[0]))\n",
    "    for i in range(U.shape[0]):\n",
    "        for j in range(V.shape[0]):\n",
    "            A[i,j] = np.dot(U[i,:],D[j,:]) + V[j,:]\n",
    "\n",
    "    return\n"
   ]
  },
  {
   "cell_type": "code",
   "execution_count": 30,
   "metadata": {},
   "outputs": [
    {
     "ename": "IndexError",
     "evalue": "too many indices for array: array is 1-dimensional, but 2 were indexed",
     "output_type": "error",
     "traceback": [
      "\u001b[0;31m---------------------------------------------------------------------------\u001b[0m",
      "\u001b[0;31mIndexError\u001b[0m                                Traceback (most recent call last)",
      "\u001b[1;32m/Users/patrickokwir/Desktop/Lighthouse-data-notes/Unit_5/Day_2/linear_algebra_exercise/matrix_decomposition_exercise.ipynb Cell 17\u001b[0m in \u001b[0;36m<cell line: 1>\u001b[0;34m()\u001b[0m\n\u001b[0;32m----> <a href='vscode-notebook-cell:/Users/patrickokwir/Desktop/Lighthouse-data-notes/Unit_5/Day_2/linear_algebra_exercise/matrix_decomposition_exercise.ipynb#X22sZmlsZQ%3D%3D?line=0'>1</a>\u001b[0m reconstruct_matrix(U,D,V)\n",
      "\u001b[1;32m/Users/patrickokwir/Desktop/Lighthouse-data-notes/Unit_5/Day_2/linear_algebra_exercise/matrix_decomposition_exercise.ipynb Cell 17\u001b[0m in \u001b[0;36mreconstruct_matrix\u001b[0;34m(U, D, V)\u001b[0m\n\u001b[1;32m      <a href='vscode-notebook-cell:/Users/patrickokwir/Desktop/Lighthouse-data-notes/Unit_5/Day_2/linear_algebra_exercise/matrix_decomposition_exercise.ipynb#X22sZmlsZQ%3D%3D?line=3'>4</a>\u001b[0m \u001b[39mfor\u001b[39;00m i \u001b[39min\u001b[39;00m \u001b[39mrange\u001b[39m(U\u001b[39m.\u001b[39mshape[\u001b[39m0\u001b[39m]):\n\u001b[1;32m      <a href='vscode-notebook-cell:/Users/patrickokwir/Desktop/Lighthouse-data-notes/Unit_5/Day_2/linear_algebra_exercise/matrix_decomposition_exercise.ipynb#X22sZmlsZQ%3D%3D?line=4'>5</a>\u001b[0m     \u001b[39mfor\u001b[39;00m j \u001b[39min\u001b[39;00m \u001b[39mrange\u001b[39m(V\u001b[39m.\u001b[39mshape[\u001b[39m0\u001b[39m]):\n\u001b[0;32m----> <a href='vscode-notebook-cell:/Users/patrickokwir/Desktop/Lighthouse-data-notes/Unit_5/Day_2/linear_algebra_exercise/matrix_decomposition_exercise.ipynb#X22sZmlsZQ%3D%3D?line=5'>6</a>\u001b[0m         A[i,j] \u001b[39m=\u001b[39m np\u001b[39m.\u001b[39mdot(U[i,:],D[j,:]) \u001b[39m+\u001b[39m V[j,:]\n\u001b[1;32m      <a href='vscode-notebook-cell:/Users/patrickokwir/Desktop/Lighthouse-data-notes/Unit_5/Day_2/linear_algebra_exercise/matrix_decomposition_exercise.ipynb#X22sZmlsZQ%3D%3D?line=7'>8</a>\u001b[0m \u001b[39mreturn\u001b[39;00m\n",
      "\u001b[0;31mIndexError\u001b[0m: too many indices for array: array is 1-dimensional, but 2 were indexed"
     ]
    }
   ],
   "source": [
    "reconstruct_matrix(U,D,V)"
   ]
  },
  {
   "cell_type": "markdown",
   "metadata": {
    "ExecuteTime": {
     "end_time": "2020-01-30T08:49:17.782966Z",
     "start_time": "2020-01-30T08:49:17.775093Z"
    }
   },
   "source": [
    "**Task:** Compare matrices 'A' and 'A_rec' with the [**np.allclose**](https://numpy.org/doc/stable/reference/generated/numpy.allclose.html) function."
   ]
  },
  {
   "cell_type": "code",
   "execution_count": 22,
   "metadata": {},
   "outputs": [
    {
     "ename": "NameError",
     "evalue": "name 'A_reconstructed' is not defined",
     "output_type": "error",
     "traceback": [
      "\u001b[0;31m---------------------------------------------------------------------------\u001b[0m",
      "\u001b[0;31mNameError\u001b[0m                                 Traceback (most recent call last)",
      "\u001b[1;32m/Users/patrickokwir/Desktop/Lighthouse-data-notes/Unit_5/Day_2/linear_algebra_exercise/matrix_decomposition_exercise.ipynb Cell 19\u001b[0m in \u001b[0;36m<cell line: 2>\u001b[0;34m()\u001b[0m\n\u001b[1;32m      <a href='vscode-notebook-cell:/Users/patrickokwir/Desktop/Lighthouse-data-notes/Unit_5/Day_2/linear_algebra_exercise/matrix_decomposition_exercise.ipynb#X24sZmlsZQ%3D%3D?line=0'>1</a>\u001b[0m \u001b[39m# compare the reconstructed matrix A with the original matrix A\u001b[39;00m\n\u001b[0;32m----> <a href='vscode-notebook-cell:/Users/patrickokwir/Desktop/Lighthouse-data-notes/Unit_5/Day_2/linear_algebra_exercise/matrix_decomposition_exercise.ipynb#X24sZmlsZQ%3D%3D?line=1'>2</a>\u001b[0m np\u001b[39m.\u001b[39mallclose(A, A_reconstructed)\n",
      "\u001b[0;31mNameError\u001b[0m: name 'A_reconstructed' is not defined"
     ]
    }
   ],
   "source": [
    "# compare the reconstructed matrix A with the original matrix A\n",
    "np.allclose(A, A_reconstructed)"
   ]
  },
  {
   "cell_type": "code",
   "execution_count": null,
   "metadata": {},
   "outputs": [],
   "source": []
  },
  {
   "cell_type": "markdown",
   "metadata": {
    "ExecuteTime": {
     "end_time": "2020-01-30T08:49:18.170344Z",
     "start_time": "2020-01-30T08:49:18.164685Z"
    }
   },
   "source": [
    "**Task:** Reduce the dimnesion of matrix 'A' to shape 150x20 with SVD (try both equations)."
   ]
  },
  {
   "cell_type": "code",
   "execution_count": null,
   "metadata": {},
   "outputs": [],
   "source": []
  },
  {
   "cell_type": "code",
   "execution_count": null,
   "metadata": {},
   "outputs": [],
   "source": []
  },
  {
   "cell_type": "markdown",
   "metadata": {
    "ExecuteTime": {
     "end_time": "2020-01-30T08:49:18.526337Z",
     "start_time": "2020-01-30T08:49:18.519511Z"
    }
   },
   "source": [
    "**Task:** Print the shape."
   ]
  },
  {
   "cell_type": "code",
   "execution_count": null,
   "metadata": {},
   "outputs": [],
   "source": []
  },
  {
   "cell_type": "code",
   "execution_count": null,
   "metadata": {},
   "outputs": [],
   "source": []
  },
  {
   "cell_type": "markdown",
   "metadata": {
    "ExecuteTime": {
     "end_time": "2020-01-30T08:49:18.858261Z",
     "start_time": "2020-01-30T08:49:18.850912Z"
    }
   },
   "source": [
    "**Task:** Compare the two results with the [**np.allclose**](https://numpy.org/doc/stable/reference/generated/numpy.allclose.html) function."
   ]
  },
  {
   "cell_type": "code",
   "execution_count": null,
   "metadata": {},
   "outputs": [],
   "source": []
  },
  {
   "cell_type": "code",
   "execution_count": null,
   "metadata": {},
   "outputs": [],
   "source": []
  },
  {
   "cell_type": "markdown",
   "metadata": {
    "ExecuteTime": {
     "end_time": "2020-01-30T08:49:19.245461Z",
     "start_time": "2020-01-30T08:49:19.237681Z"
    }
   },
   "source": [
    "**Task:** Filter the noise from matrix 'A' with 20 largest singular vectors (keep the shape of (150x50))."
   ]
  },
  {
   "cell_type": "code",
   "execution_count": null,
   "metadata": {},
   "outputs": [],
   "source": []
  },
  {
   "cell_type": "code",
   "execution_count": null,
   "metadata": {},
   "outputs": [],
   "source": []
  },
  {
   "cell_type": "markdown",
   "metadata": {
    "ExecuteTime": {
     "end_time": "2020-01-30T08:49:19.787237Z",
     "start_time": "2020-01-30T08:49:19.775025Z"
    }
   },
   "source": [
    "**Task:** Check the shape."
   ]
  },
  {
   "cell_type": "code",
   "execution_count": null,
   "metadata": {},
   "outputs": [],
   "source": []
  },
  {
   "cell_type": "code",
   "execution_count": null,
   "metadata": {},
   "outputs": [],
   "source": []
  },
  {
   "cell_type": "markdown",
   "metadata": {},
   "source": [
    "**Task:** Define the function `'SVD'` which perform singular values decomposition.\n",
    "\n",
    "Do not forget to hceck the shape of the input matrix."
   ]
  },
  {
   "cell_type": "code",
   "execution_count": null,
   "metadata": {
    "ExecuteTime": {
     "end_time": "2020-01-30T08:49:20.344770Z",
     "start_time": "2020-01-30T08:49:20.326781Z"
    }
   },
   "outputs": [],
   "source": [
    "\"\"\"\n",
    "PARAMS:\n",
    "    A (numpy.ndarray) - matrix to decompose\n",
    "RETURN:\n",
    "    U (numpy.ndarray) - left singular vectors\n",
    "    SV (numpy.ndarray) - singular values\n",
    "    V (numpy.ndarray) - right singular vectors\n",
    "\"\"\""
   ]
  },
  {
   "cell_type": "code",
   "execution_count": 31,
   "metadata": {},
   "outputs": [],
   "source": [
    "# define a function to compute the SVD decomposition of a matrix A, check shape of A\n",
    "def svd_decomposition(A):\n",
    "    # compute the eigenvalues and eigenvectors of A.T.dot(A)\n",
    "    eigenvalues, eigenvectors = la.eig(A.T.dot(A))\n",
    "    # compute the singular values of A\n",
    "    SV = np.sqrt(eigenvalues)\n",
    "    # compute the right singular vectors of A\n",
    "    V = eigenvectors\n",
    "    # compute the left singular vectors of A\n",
    "    U = A.dot(V) / SV\n",
    "\n",
    "    return U, SV, V\n"
   ]
  },
  {
   "cell_type": "markdown",
   "metadata": {
    "ExecuteTime": {
     "end_time": "2020-01-30T08:49:20.693579Z",
     "start_time": "2020-01-30T08:49:20.660972Z"
    }
   },
   "source": [
    "**Task:** Call the function `'SVD'` on matrix 'A'."
   ]
  },
  {
   "cell_type": "code",
   "execution_count": 35,
   "metadata": {},
   "outputs": [
    {
     "data": {
      "text/plain": [
       "(array([[ 0.09204877,  0.01279412, -0.03473779, ...,  0.02891002,\n",
       "          0.06522504,  0.11899686],\n",
       "        [ 0.08855303, -0.12115667,  0.10946121, ..., -0.11413244,\n",
       "         -0.04629654, -0.04294377],\n",
       "        [ 0.07131422,  0.0207151 , -0.03116559, ..., -0.13700367,\n",
       "          0.03761662,  0.08489287],\n",
       "        ...,\n",
       "        [ 0.07542946,  0.05659156,  0.01532432, ..., -0.03608659,\n",
       "          0.03077485,  0.03393097],\n",
       "        [ 0.08816231, -0.13831353,  0.01821508, ..., -0.18486012,\n",
       "         -0.0904936 ,  0.05698812],\n",
       "        [ 0.08529183, -0.07956693,  0.07580399, ..., -0.15939124,\n",
       "         -0.05353889,  0.03980514]]),\n",
       " array([43.49040837,  5.3784808 ,  5.29412351,  5.20976611,  4.99127357,\n",
       "         4.8643742 ,  4.8208973 ,  4.65575826,  4.64056591,  4.52754419,\n",
       "         4.48228417,  4.42140093,  4.32786129,  4.26049862,  4.08854326,\n",
       "         4.07355638,  3.98923881,  3.89826458,  1.51457713,  3.77228302,\n",
       "         1.72000016,  3.69273999,  3.61305437,  3.58527306,  3.53599862,\n",
       "         3.51179544,  1.84371247,  3.40709972,  1.98211944,  2.0745337 ,\n",
       "         2.10086595,  2.1418305 ,  2.2456766 ,  2.27530773,  2.34023408,\n",
       "         2.44137773,  2.47883341,  2.52835273,  2.58933797,  2.68723919,\n",
       "         2.73275405,  3.27333705,  3.22529857,  2.81353325,  2.8604908 ,\n",
       "         3.15091309,  2.96217629,  2.98749833,  3.0509959 ,  3.04574662]),\n",
       " array([[ 1.32727538e-01, -4.13474183e-02, -5.91883658e-02, ...,\n",
       "          2.81366216e-01, -2.59738356e-01,  1.55658768e-03],\n",
       "        [ 1.45872428e-01,  1.44522545e-02, -9.45380421e-02, ...,\n",
       "         -8.53858752e-03, -4.39779814e-02,  1.72261550e-01],\n",
       "        [ 1.43228556e-01, -4.10600665e-02,  3.93921695e-02, ...,\n",
       "         -7.45234920e-04,  2.27335374e-01,  2.03456848e-01],\n",
       "        ...,\n",
       "        [ 1.27740833e-01, -7.04330089e-02, -1.47549037e-01, ...,\n",
       "         -1.26130492e-01, -9.47992602e-02,  7.96058914e-04],\n",
       "        [ 1.29923595e-01,  5.30095065e-02,  2.84281046e-01, ...,\n",
       "          2.15784565e-04,  1.88031072e-02, -3.82344332e-02],\n",
       "        [ 1.43937888e-01,  2.30888780e-02,  6.59670057e-02, ...,\n",
       "          5.97031601e-02, -5.29712394e-03, -9.11506367e-02]]))"
      ]
     },
     "execution_count": 35,
     "metadata": {},
     "output_type": "execute_result"
    }
   ],
   "source": [
    "svd_decomposition(A)"
   ]
  },
  {
   "cell_type": "code",
   "execution_count": 37,
   "metadata": {},
   "outputs": [],
   "source": [
    "# check the shape of U, SV, V\n"
   ]
  },
  {
   "cell_type": "code",
   "execution_count": null,
   "metadata": {},
   "outputs": [],
   "source": []
  }
 ],
 "metadata": {
  "kernelspec": {
   "display_name": "Python 3",
   "language": "python",
   "name": "python3"
  },
  "language_info": {
   "codemirror_mode": {
    "name": "ipython",
    "version": 3
   },
   "file_extension": ".py",
   "mimetype": "text/x-python",
   "name": "python",
   "nbconvert_exporter": "python",
   "pygments_lexer": "ipython3",
   "version": "3.8.13"
  },
  "toc": {
   "base_numbering": 1,
   "nav_menu": {},
   "number_sections": true,
   "sideBar": true,
   "skip_h1_title": false,
   "title_cell": "Table of Contents",
   "title_sidebar": "Contents",
   "toc_cell": false,
   "toc_position": {},
   "toc_section_display": true,
   "toc_window_display": false
  },
  "varInspector": {
   "cols": {
    "lenName": 16,
    "lenType": 16,
    "lenVar": 40
   },
   "kernels_config": {
    "python": {
     "delete_cmd_postfix": "",
     "delete_cmd_prefix": "del ",
     "library": "var_list.py",
     "varRefreshCmd": "print(var_dic_list())"
    },
    "r": {
     "delete_cmd_postfix": ") ",
     "delete_cmd_prefix": "rm(",
     "library": "var_list.r",
     "varRefreshCmd": "cat(var_dic_list()) "
    }
   },
   "types_to_exclude": [
    "module",
    "function",
    "builtin_function_or_method",
    "instance",
    "_Feature"
   ],
   "window_display": false
  }
 },
 "nbformat": 4,
 "nbformat_minor": 4
}
