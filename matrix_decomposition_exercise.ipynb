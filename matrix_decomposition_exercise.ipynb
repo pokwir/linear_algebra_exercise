{
 "cells": [
  {
   "cell_type": "markdown",
   "metadata": {},
   "source": [
    "## Matrix Decomposition Exercise"
   ]
  },
  {
   "cell_type": "code",
   "execution_count": 1,
   "metadata": {
    "ExecuteTime": {
     "end_time": "2020-01-30T08:49:15.705544Z",
     "start_time": "2020-01-30T08:49:15.691050Z"
    }
   },
   "outputs": [],
   "source": [
    "# import numpy\n",
    "import numpy as np\n",
    "import numpy.linalg as la"
   ]
  },
  {
   "cell_type": "markdown",
   "metadata": {
    "ExecuteTime": {
     "end_time": "2020-01-30T08:49:16.033687Z",
     "start_time": "2020-01-30T08:49:16.022845Z"
    }
   },
   "source": [
    "**Task:** Generate a random matrix 'A' with a shape of 150x50, using the '**np.random.rand**' function."
   ]
  },
  {
   "cell_type": "code",
   "execution_count": 2,
   "metadata": {},
   "outputs": [],
   "source": [
    "# generate a random matrix A with shape 150X50 using np.random.rand\n",
    "A = np.random.rand(150, 50)"
   ]
  },
  {
   "cell_type": "code",
   "execution_count": 4,
   "metadata": {},
   "outputs": [
    {
     "data": {
      "text/plain": [
       "(150, 50)"
      ]
     },
     "execution_count": 4,
     "metadata": {},
     "output_type": "execute_result"
    }
   ],
   "source": [
    "A.shape"
   ]
  },
  {
   "cell_type": "markdown",
   "metadata": {
    "ExecuteTime": {
     "end_time": "2020-01-30T08:49:16.306858Z",
     "start_time": "2020-01-30T08:49:16.291806Z"
    }
   },
   "source": [
    "**Task:** Check the shape of 'A'."
   ]
  },
  {
   "cell_type": "code",
   "execution_count": 4,
   "metadata": {},
   "outputs": [
    {
     "data": {
      "text/plain": [
       "numpy.ndarray"
      ]
     },
     "execution_count": 4,
     "metadata": {},
     "output_type": "execute_result"
    }
   ],
   "source": [
    "type(A)"
   ]
  },
  {
   "cell_type": "code",
   "execution_count": 52,
   "metadata": {},
   "outputs": [
    {
     "data": {
      "text/plain": [
       "array([[0.66128793, 0.29915272, 0.4189794 , ..., 0.96400086, 0.89466405,\n",
       "        0.32548925],\n",
       "       [0.82780919, 0.95600038, 0.66456902, ..., 0.21419636, 0.15869064,\n",
       "        0.11871241],\n",
       "       [0.0522388 , 0.58790744, 0.6148755 , ..., 0.14994106, 0.98970858,\n",
       "        0.10840065],\n",
       "       ...,\n",
       "       [0.54210867, 0.69398983, 0.03238269, ..., 0.28854778, 0.30393316,\n",
       "        0.9706647 ],\n",
       "       [0.23780887, 0.0184847 , 0.25413318, ..., 0.90945687, 0.30314467,\n",
       "        0.50906294],\n",
       "       [0.21462548, 0.00674328, 0.54279745, ..., 0.036953  , 0.66425386,\n",
       "        0.20038745]])"
      ]
     },
     "execution_count": 52,
     "metadata": {},
     "output_type": "execute_result"
    }
   ],
   "source": [
    "A"
   ]
  },
  {
   "cell_type": "markdown",
   "metadata": {
    "ExecuteTime": {
     "end_time": "2020-01-30T08:49:16.700850Z",
     "start_time": "2020-01-30T08:49:16.658980Z"
    }
   },
   "source": [
    "**Task:** Decompose matrix 'A' with SVD using numpy (decompose into matrices U,D,V)."
   ]
  },
  {
   "cell_type": "code",
   "execution_count": 40,
   "metadata": {},
   "outputs": [],
   "source": [
    "#decompose A into U, D, V using np.linalg.svd\n",
    "U, D, V = la.svd(A, full_matrices=True)"
   ]
  },
  {
   "cell_type": "markdown",
   "metadata": {
    "ExecuteTime": {
     "end_time": "2020-01-30T08:49:17.007803Z",
     "start_time": "2020-01-30T08:49:17.000154Z"
    }
   },
   "source": [
    "**Task:** Check the shapes of matrices U,D,V."
   ]
  },
  {
   "cell_type": "code",
   "execution_count": 39,
   "metadata": {},
   "outputs": [
    {
     "data": {
      "text/plain": [
       "((150, 50), (50,), (50, 50))"
      ]
     },
     "execution_count": 39,
     "metadata": {},
     "output_type": "execute_result"
    }
   ],
   "source": [
    "# check the shape of U, D, V\n",
    "U.shape, D.shape, V.shape"
   ]
  },
  {
   "cell_type": "code",
   "execution_count": 43,
   "metadata": {},
   "outputs": [
    {
     "data": {
      "text/plain": [
       "array([[ 1.00000000e+00, -4.91070060e-17, -2.00291204e-17, ...,\n",
       "         1.43328465e-16,  9.60333532e-17, -4.94922873e-17],\n",
       "       [-4.91070060e-17,  1.00000000e+00,  1.06290233e-17, ...,\n",
       "         9.73555550e-17, -1.53647579e-16, -2.03791396e-17],\n",
       "       [-2.00291204e-17,  1.06290233e-17,  1.00000000e+00, ...,\n",
       "        -2.21715721e-16, -5.41166350e-17,  9.23292199e-17],\n",
       "       ...,\n",
       "       [ 1.43328465e-16,  9.73555550e-17, -2.21715721e-16, ...,\n",
       "         1.00000000e+00,  6.56502195e-17, -7.09293821e-17],\n",
       "       [ 9.60333532e-17, -1.53647579e-16, -5.41166350e-17, ...,\n",
       "         6.56502195e-17,  1.00000000e+00, -4.18089095e-17],\n",
       "       [-4.94922873e-17, -2.03791396e-17,  9.23292199e-17, ...,\n",
       "        -7.09293821e-17, -4.18089095e-17,  1.00000000e+00]])"
      ]
     },
     "execution_count": 43,
     "metadata": {},
     "output_type": "execute_result"
    }
   ],
   "source": [
    "# check if U is singular vector\n",
    "U.dot(U.T)\n"
   ]
  },
  {
   "cell_type": "code",
   "execution_count": 44,
   "metadata": {},
   "outputs": [
    {
     "data": {
      "text/plain": [
       "array([43.0074422 ,  5.27802896,  5.20183577,  5.16238124,  5.01234252,\n",
       "        4.82023172,  4.76017469,  4.64206788,  4.54458904,  4.47977546,\n",
       "        4.33742272,  4.29330008,  4.27106758,  4.22955321,  4.08359278,\n",
       "        4.00933756,  3.95908924,  3.94085444,  3.81270545,  3.74406647,\n",
       "        3.70863564,  3.61552426,  3.49829011,  3.43357742,  3.40813967,\n",
       "        3.35604969,  3.26749325,  3.22410649,  3.1438986 ,  3.11800214,\n",
       "        3.06380287,  3.00716935,  2.91057466,  2.79866153,  2.77038005,\n",
       "        2.7192177 ,  2.62524492,  2.54860197,  2.5124871 ,  2.41970012,\n",
       "        2.4000906 ,  2.34505787,  2.17760427,  2.11048846,  2.06833975,\n",
       "        2.02735425,  1.94936414,  1.85467292,  1.73167601,  1.53133801])"
      ]
     },
     "execution_count": 44,
     "metadata": {},
     "output_type": "execute_result"
    }
   ],
   "source": [
    "# check if D is singular value\n",
    "D"
   ]
  },
  {
   "cell_type": "code",
   "execution_count": 45,
   "metadata": {},
   "outputs": [
    {
     "data": {
      "text/plain": [
       "array([[ 1.00000000e+00, -1.34255083e-17, -6.55261124e-17, ...,\n",
       "        -3.57673268e-17, -5.32846731e-17,  3.22486001e-17],\n",
       "       [-1.34255083e-17,  1.00000000e+00, -2.44284834e-16, ...,\n",
       "        -4.26214821e-17,  9.74687791e-17, -4.51496779e-17],\n",
       "       [-6.55261124e-17, -2.44284834e-16,  1.00000000e+00, ...,\n",
       "         6.15293735e-18, -1.78803635e-17,  2.91655998e-16],\n",
       "       ...,\n",
       "       [-3.57673268e-17, -4.26214821e-17,  6.15293735e-18, ...,\n",
       "         1.00000000e+00,  3.48885748e-16,  8.45525392e-17],\n",
       "       [-5.32846731e-17,  9.74687791e-17, -1.78803635e-17, ...,\n",
       "         3.48885748e-16,  1.00000000e+00, -7.12364296e-17],\n",
       "       [ 3.22486001e-17, -4.51496779e-17,  2.91655998e-16, ...,\n",
       "         8.45525392e-17, -7.12364296e-17,  1.00000000e+00]])"
      ]
     },
     "execution_count": 45,
     "metadata": {},
     "output_type": "execute_result"
    }
   ],
   "source": [
    "# check if V is right singular vector\n",
    "V.dot(V.T)"
   ]
  },
  {
   "cell_type": "code",
   "execution_count": null,
   "metadata": {},
   "outputs": [],
   "source": []
  },
  {
   "cell_type": "markdown",
   "metadata": {
    "ExecuteTime": {
     "end_time": "2020-01-30T08:49:17.380307Z",
     "start_time": "2020-01-30T08:49:17.364171Z"
    }
   },
   "source": [
    "**Task:** Reconstruct matrix 'A' from matrices U,D,V."
   ]
  },
  {
   "cell_type": "code",
   "execution_count": 46,
   "metadata": {},
   "outputs": [],
   "source": [
    "# crete a diagonal matrix D_ with the same shape as A\n",
    "D_ = np.zeros_like(A)"
   ]
  },
  {
   "cell_type": "code",
   "execution_count": 48,
   "metadata": {},
   "outputs": [],
   "source": [
    "# fill D_ with D\n",
    "D_[:D.shape[0], :D.shape[0]] = np.diag(D)\n"
   ]
  },
  {
   "cell_type": "code",
   "execution_count": 49,
   "metadata": {},
   "outputs": [],
   "source": [
    "from numpy.linalg import multi_dot"
   ]
  },
  {
   "cell_type": "code",
   "execution_count": 50,
   "metadata": {},
   "outputs": [],
   "source": [
    "# use multi_dot to reconstruct A\n",
    "A_ = multi_dot([U, D_, V])\n"
   ]
  },
  {
   "cell_type": "code",
   "execution_count": 51,
   "metadata": {},
   "outputs": [
    {
     "data": {
      "text/plain": [
       "array([[0.66128793, 0.29915272, 0.4189794 , ..., 0.96400086, 0.89466405,\n",
       "        0.32548925],\n",
       "       [0.82780919, 0.95600038, 0.66456902, ..., 0.21419636, 0.15869064,\n",
       "        0.11871241],\n",
       "       [0.0522388 , 0.58790744, 0.6148755 , ..., 0.14994106, 0.98970858,\n",
       "        0.10840065],\n",
       "       ...,\n",
       "       [0.54210867, 0.69398983, 0.03238269, ..., 0.28854778, 0.30393316,\n",
       "        0.9706647 ],\n",
       "       [0.23780887, 0.0184847 , 0.25413318, ..., 0.90945687, 0.30314467,\n",
       "        0.50906294],\n",
       "       [0.21462548, 0.00674328, 0.54279745, ..., 0.036953  , 0.66425386,\n",
       "        0.20038745]])"
      ]
     },
     "execution_count": 51,
     "metadata": {},
     "output_type": "execute_result"
    }
   ],
   "source": [
    "A_"
   ]
  },
  {
   "cell_type": "markdown",
   "metadata": {
    "ExecuteTime": {
     "end_time": "2020-01-30T08:49:17.782966Z",
     "start_time": "2020-01-30T08:49:17.775093Z"
    }
   },
   "source": [
    "**Task:** Compare matrices 'A' and 'A_rec' with the [**np.allclose**](https://numpy.org/doc/stable/reference/generated/numpy.allclose.html) function."
   ]
  },
  {
   "cell_type": "code",
   "execution_count": 53,
   "metadata": {},
   "outputs": [
    {
     "data": {
      "text/plain": [
       "True"
      ]
     },
     "execution_count": 53,
     "metadata": {},
     "output_type": "execute_result"
    }
   ],
   "source": [
    "# compare the reconstructed matrix A with the original matrix A\n",
    "np.allclose(A, A_)"
   ]
  },
  {
   "cell_type": "markdown",
   "metadata": {
    "ExecuteTime": {
     "end_time": "2020-01-30T08:49:18.170344Z",
     "start_time": "2020-01-30T08:49:18.164685Z"
    }
   },
   "source": [
    "**Task:** Reduce the dimnesion of matrix 'A' to shape 150x20 with SVD (try both equations)."
   ]
  },
  {
   "cell_type": "code",
   "execution_count": 91,
   "metadata": {},
   "outputs": [],
   "source": [
    "#1 \n",
    "A_reduced1 = U[:, :20] * D[:20]\n",
    "#2 \n",
    "A_reduced2 = A.dot(V[:20,:].T)"
   ]
  },
  {
   "cell_type": "markdown",
   "metadata": {
    "ExecuteTime": {
     "end_time": "2020-01-30T08:49:18.526337Z",
     "start_time": "2020-01-30T08:49:18.519511Z"
    }
   },
   "source": [
    "**Task:** Print the shape."
   ]
  },
  {
   "cell_type": "code",
   "execution_count": 88,
   "metadata": {},
   "outputs": [],
   "source": []
  },
  {
   "cell_type": "code",
   "execution_count": 89,
   "metadata": {},
   "outputs": [
    {
     "data": {
      "text/plain": [
       "((150, 20), (150, 20))"
      ]
     },
     "execution_count": 89,
     "metadata": {},
     "output_type": "execute_result"
    }
   ],
   "source": [
    "A_reduced1.shape, A_reduced2.shape"
   ]
  },
  {
   "cell_type": "markdown",
   "metadata": {
    "ExecuteTime": {
     "end_time": "2020-01-30T08:49:18.858261Z",
     "start_time": "2020-01-30T08:49:18.850912Z"
    }
   },
   "source": [
    "**Task:** Compare the two results with the [**np.allclose**](https://numpy.org/doc/stable/reference/generated/numpy.allclose.html) function."
   ]
  },
  {
   "cell_type": "code",
   "execution_count": 90,
   "metadata": {},
   "outputs": [
    {
     "data": {
      "text/plain": [
       "True"
      ]
     },
     "execution_count": 90,
     "metadata": {},
     "output_type": "execute_result"
    }
   ],
   "source": [
    "# compare the shape of A1, A2, A3 using np.allclose\n",
    "np.allclose(A_reduced1, A_reduced2)"
   ]
  },
  {
   "cell_type": "code",
   "execution_count": null,
   "metadata": {},
   "outputs": [],
   "source": []
  },
  {
   "cell_type": "markdown",
   "metadata": {
    "ExecuteTime": {
     "end_time": "2020-01-30T08:49:19.245461Z",
     "start_time": "2020-01-30T08:49:19.237681Z"
    }
   },
   "source": [
    "**Task:** Filter the noise from matrix 'A' with 20 largest singular vectors (keep the shape of (150x50))."
   ]
  },
  {
   "cell_type": "code",
   "execution_count": 94,
   "metadata": {},
   "outputs": [],
   "source": [
    "# filter noise from A with 20 largest singular vectors\n",
    "A_reduced = A.dot(V[:20,:].T)"
   ]
  },
  {
   "cell_type": "code",
   "execution_count": null,
   "metadata": {},
   "outputs": [],
   "source": []
  },
  {
   "cell_type": "markdown",
   "metadata": {
    "ExecuteTime": {
     "end_time": "2020-01-30T08:49:19.787237Z",
     "start_time": "2020-01-30T08:49:19.775025Z"
    }
   },
   "source": [
    "**Task:** Check the shape."
   ]
  },
  {
   "cell_type": "code",
   "execution_count": 95,
   "metadata": {},
   "outputs": [
    {
     "data": {
      "text/plain": [
       "(150, 20)"
      ]
     },
     "execution_count": 95,
     "metadata": {},
     "output_type": "execute_result"
    }
   ],
   "source": [
    "A_reduced.shape"
   ]
  },
  {
   "cell_type": "code",
   "execution_count": null,
   "metadata": {},
   "outputs": [],
   "source": []
  },
  {
   "cell_type": "markdown",
   "metadata": {},
   "source": [
    "**Task:** Define the function `'SVD'` which perform singular values decomposition.\n",
    "\n",
    "Do not forget to hceck the shape of the input matrix."
   ]
  },
  {
   "cell_type": "code",
   "execution_count": null,
   "metadata": {
    "ExecuteTime": {
     "end_time": "2020-01-30T08:49:20.344770Z",
     "start_time": "2020-01-30T08:49:20.326781Z"
    }
   },
   "outputs": [],
   "source": [
    "\"\"\"\n",
    "PARAMS:\n",
    "    A (numpy.ndarray) - matrix to decompose\n",
    "RETURN:\n",
    "    U (numpy.ndarray) - left singular vectors\n",
    "    SV (numpy.ndarray) - singular values\n",
    "    V (numpy.ndarray) - right singular vectors\n",
    "\"\"\""
   ]
  },
  {
   "cell_type": "code",
   "execution_count": 110,
   "metadata": {},
   "outputs": [],
   "source": [
    "# define a function to compute the SVD decomposition of a matrix A, check shape of A\n",
    "def svd_decomposition(A):\n",
    "    # compute the eigenvalues and eigenvectors of A.T.dot(A)\n",
    "    eigenvalues, eigenvectors = la.eig(A.T.dot(A))\n",
    "    # compute the singular values of A\n",
    "    S = np.sqrt(eigenvalues)\n",
    "    SV = np.sqrt(eigenvalues)\n",
    "    # compute the right singular vectors of A\n",
    "    V = eigenvectors\n",
    "    # compute the left singular vectors of A\n",
    "    U = A.dot(V) / SV\n",
    "    return U, SV, V\n"
   ]
  },
  {
   "cell_type": "markdown",
   "metadata": {
    "ExecuteTime": {
     "end_time": "2020-01-30T08:49:20.693579Z",
     "start_time": "2020-01-30T08:49:20.660972Z"
    }
   },
   "source": [
    "**Task:** Call the function `'SVD'` on matrix 'A'."
   ]
  },
  {
   "cell_type": "code",
   "execution_count": 112,
   "metadata": {},
   "outputs": [
    {
     "data": {
      "text/plain": [
       "(array([[-8.16569139e-02+0.00000000e+00j, -1.19041748e-01+0.00000000e+00j,\n",
       "          4.69822013e-02+0.00000000e+00j, ...,\n",
       "         -3.70886991e-09-2.45244439e-09j, -3.73565543e-09+2.73971862e-09j,\n",
       "          0.00000000e+00+1.70126329e-09j],\n",
       "        [-9.10000138e-02+0.00000000e+00j, -5.06013974e-02+0.00000000e+00j,\n",
       "         -9.30484255e-03+0.00000000e+00j, ...,\n",
       "          3.04844110e-10+4.61303003e-09j,  5.28440982e-10-4.33361627e-09j,\n",
       "          0.00000000e+00-6.56424446e-09j],\n",
       "        [-8.86241195e-02+0.00000000e+00j, -8.62552230e-02+0.00000000e+00j,\n",
       "         -1.24717193e-01+0.00000000e+00j, ...,\n",
       "         -4.55159111e-09+9.08413928e-09j, -4.46216883e-09-9.08694659e-09j,\n",
       "          0.00000000e+00-4.50457910e-09j],\n",
       "        ...,\n",
       "        [-8.78430046e-02+0.00000000e+00j,  9.14618924e-02+0.00000000e+00j,\n",
       "          1.94232583e-03+0.00000000e+00j, ...,\n",
       "         -2.72386793e-09-2.93173611e-09j, -2.30362436e-09+2.63210971e-09j,\n",
       "          0.00000000e+00+1.33149632e-08j],\n",
       "        [-8.33704245e-02+0.00000000e+00j,  2.53746271e-02+0.00000000e+00j,\n",
       "          6.59138703e-02+0.00000000e+00j, ...,\n",
       "         -2.97624049e-09-2.91444204e-09j, -3.14160997e-09+3.34928362e-09j,\n",
       "          0.00000000e+00+7.88570812e-09j],\n",
       "        [-7.50604137e-02+0.00000000e+00j, -2.36723973e-02+0.00000000e+00j,\n",
       "         -1.06411047e-01+0.00000000e+00j, ...,\n",
       "         -1.36841148e-09+1.45567185e-09j, -1.28339856e-09-1.02869073e-09j,\n",
       "          0.00000000e+00-1.27764376e-09j]]),\n",
       " array([4.30074422e+01+0.00000000e+00j, 5.27802896e+00+0.00000000e+00j,\n",
       "        5.20183577e+00+0.00000000e+00j, 5.16238124e+00+0.00000000e+00j,\n",
       "        5.01234252e+00+0.00000000e+00j, 4.82023172e+00+0.00000000e+00j,\n",
       "        4.76017469e+00+0.00000000e+00j, 4.64206788e+00+0.00000000e+00j,\n",
       "        4.54458904e+00+0.00000000e+00j, 4.47977546e+00+0.00000000e+00j,\n",
       "        3.74406647e+00+0.00000000e+00j, 3.81270545e+00+0.00000000e+00j,\n",
       "        3.94085444e+00+0.00000000e+00j, 3.95908924e+00+0.00000000e+00j,\n",
       "        4.00933756e+00+0.00000000e+00j, 4.08359278e+00+0.00000000e+00j,\n",
       "        4.33742272e+00+0.00000000e+00j, 4.27106758e+00+0.00000000e+00j,\n",
       "        4.29330008e+00+0.00000000e+00j, 4.22955321e+00+0.00000000e+00j,\n",
       "        5.10192422e-09+3.62784106e-07j, 5.10192422e-09-3.62784106e-07j,\n",
       "        0.00000000e+00+3.44636247e-07j, 3.45677101e-07+0.00000000e+00j,\n",
       "        3.29842663e-07+0.00000000e+00j, 3.23818387e-07+0.00000000e+00j,\n",
       "        2.80081977e-07+1.46753672e-08j, 2.80081977e-07-1.46753672e-08j,\n",
       "        2.78967710e-07+0.00000000e+00j, 0.00000000e+00+2.94852833e-07j,\n",
       "        0.00000000e+00+2.92394484e-07j, 2.51549085e-07+0.00000000e+00j,\n",
       "        0.00000000e+00+2.74766182e-07j, 2.28061475e-07+0.00000000e+00j,\n",
       "        2.05534510e-07+0.00000000e+00j, 2.00063504e-07+0.00000000e+00j,\n",
       "        1.81292167e-07+0.00000000e+00j, 1.88049165e-09+2.52016735e-07j,\n",
       "        1.88049165e-09-2.52016735e-07j, 1.46799949e-07+0.00000000e+00j,\n",
       "        1.30854675e-07+0.00000000e+00j, 7.55870634e-08+6.20218726e-08j,\n",
       "        7.55870634e-08-6.20218726e-08j, 0.00000000e+00+8.09772027e-08j,\n",
       "        1.75571147e-08+1.43755497e-07j, 1.75571147e-08-1.43755497e-07j,\n",
       "        0.00000000e+00+2.12751706e-07j, 6.08416958e-09+1.93801299e-07j,\n",
       "        6.08416958e-09-1.93801299e-07j, 0.00000000e+00+1.77756017e-07j]),\n",
       " array([[-0.13935154+0.j        ,  0.12776834+0.j        ,\n",
       "          0.2107096 +0.j        , ..., -0.00220666+0.12793146j,\n",
       "         -0.00220666-0.12793146j,  0.04332761+0.j        ],\n",
       "        [-0.13998449+0.j        , -0.09017086+0.j        ,\n",
       "         -0.12801996+0.j        , ...,  0.06226473+0.01196963j,\n",
       "          0.06226473-0.01196963j,  0.03329974+0.j        ],\n",
       "        [-0.13244673+0.j        , -0.03346632+0.j        ,\n",
       "         -0.17343344+0.j        , ..., -0.1864587 -0.06667771j,\n",
       "         -0.1864587 +0.06667771j,  0.14363914+0.j        ],\n",
       "        ...,\n",
       "        [-0.13272687+0.j        , -0.08978697+0.j        ,\n",
       "          0.25062614+0.j        , ...,  0.15357728+0.04038337j,\n",
       "          0.15357728-0.04038337j, -0.16966556+0.j        ],\n",
       "        [-0.13903335+0.j        ,  0.01310408+0.j        ,\n",
       "         -0.13752928+0.j        , ...,  0.30482255+0.j        ,\n",
       "          0.30482255-0.j        , -0.06000649+0.j        ],\n",
       "        [-0.13112015+0.j        ,  0.19350984+0.j        ,\n",
       "         -0.34050732+0.j        , ..., -0.00710461+0.14957644j,\n",
       "         -0.00710461-0.14957644j, -0.15029225+0.j        ]]))"
      ]
     },
     "execution_count": 112,
     "metadata": {},
     "output_type": "execute_result"
    }
   ],
   "source": [
    "svd_decomposition(A)"
   ]
  },
  {
   "cell_type": "code",
   "execution_count": 113,
   "metadata": {},
   "outputs": [
    {
     "data": {
      "text/plain": [
       "(150, 50)"
      ]
     },
     "execution_count": 113,
     "metadata": {},
     "output_type": "execute_result"
    }
   ],
   "source": [
    "# check the shape of U, SV, V\n",
    "U.shape\n",
    "\n"
   ]
  },
  {
   "cell_type": "code",
   "execution_count": 114,
   "metadata": {},
   "outputs": [
    {
     "data": {
      "text/plain": [
       "(50, 50)"
      ]
     },
     "execution_count": 114,
     "metadata": {},
     "output_type": "execute_result"
    }
   ],
   "source": [
    "V.shape"
   ]
  },
  {
   "cell_type": "code",
   "execution_count": 115,
   "metadata": {},
   "outputs": [
    {
     "ename": "NameError",
     "evalue": "name 'SV' is not defined",
     "output_type": "error",
     "traceback": [
      "\u001b[0;31m---------------------------------------------------------------------------\u001b[0m",
      "\u001b[0;31mNameError\u001b[0m                                 Traceback (most recent call last)",
      "Cell \u001b[0;32mIn[115], line 1\u001b[0m\n\u001b[0;32m----> 1\u001b[0m SV\n",
      "\u001b[0;31mNameError\u001b[0m: name 'SV' is not defined"
     ]
    }
   ],
   "source": [
    "SV"
   ]
  },
  {
   "cell_type": "code",
   "execution_count": 109,
   "metadata": {},
   "outputs": [
    {
     "ename": "NameError",
     "evalue": "name 'single_values' is not defined",
     "output_type": "error",
     "traceback": [
      "\u001b[0;31m---------------------------------------------------------------------------\u001b[0m",
      "\u001b[0;31mNameError\u001b[0m                                 Traceback (most recent call last)",
      "Cell \u001b[0;32mIn[109], line 1\u001b[0m\n\u001b[0;32m----> 1\u001b[0m single_values\n",
      "\u001b[0;31mNameError\u001b[0m: name 'single_values' is not defined"
     ]
    }
   ],
   "source": [
    "single_values"
   ]
  },
  {
   "cell_type": "code",
   "execution_count": null,
   "metadata": {},
   "outputs": [],
   "source": []
  }
 ],
 "metadata": {
  "kernelspec": {
   "display_name": "Python 3",
   "language": "python",
   "name": "python3"
  },
  "language_info": {
   "codemirror_mode": {
    "name": "ipython",
    "version": 3
   },
   "file_extension": ".py",
   "mimetype": "text/x-python",
   "name": "python",
   "nbconvert_exporter": "python",
   "pygments_lexer": "ipython3",
   "version": "3.8.16"
  },
  "toc": {
   "base_numbering": 1,
   "nav_menu": {},
   "number_sections": true,
   "sideBar": true,
   "skip_h1_title": false,
   "title_cell": "Table of Contents",
   "title_sidebar": "Contents",
   "toc_cell": false,
   "toc_position": {},
   "toc_section_display": true,
   "toc_window_display": false
  },
  "varInspector": {
   "cols": {
    "lenName": 16,
    "lenType": 16,
    "lenVar": 40
   },
   "kernels_config": {
    "python": {
     "delete_cmd_postfix": "",
     "delete_cmd_prefix": "del ",
     "library": "var_list.py",
     "varRefreshCmd": "print(var_dic_list())"
    },
    "r": {
     "delete_cmd_postfix": ") ",
     "delete_cmd_prefix": "rm(",
     "library": "var_list.r",
     "varRefreshCmd": "cat(var_dic_list()) "
    }
   },
   "types_to_exclude": [
    "module",
    "function",
    "builtin_function_or_method",
    "instance",
    "_Feature"
   ],
   "window_display": false
  }
 },
 "nbformat": 4,
 "nbformat_minor": 4
}
